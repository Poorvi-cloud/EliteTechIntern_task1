{
 "cells": [
  {
   "cell_type": "code",
   "execution_count": 3,
   "id": "e31fe9f2-789a-4f54-8dd9-939064747b7d",
   "metadata": {},
   "outputs": [
    {
     "name": "stdout",
     "output_type": "stream",
     "text": [
      "Requirement already satisfied: pyspark in c:\\users\\offic\\anaconda3\\lib\\site-packages (4.0.0)\n",
      "Requirement already satisfied: py4j==0.10.9.9 in c:\\users\\offic\\anaconda3\\lib\\site-packages (from pyspark) (0.10.9.9)\n",
      "Note: you may need to restart the kernel to use updated packages.\n"
     ]
    }
   ],
   "source": [
    "pip install pyspark"
   ]
  },
  {
   "cell_type": "code",
   "execution_count": 5,
   "id": "9690487a-4001-4685-81ab-4db1ffd8dee9",
   "metadata": {},
   "outputs": [],
   "source": [
    "from pyspark.sql import SparkSession\n",
    "\n",
    "spark = SparkSession.builder \\\n",
    "    .appName(\"Taxi Trip Data Analysis\") \\\n",
    "    .getOrCreate()\n"
   ]
  },
  {
   "cell_type": "code",
   "execution_count": 11,
   "id": "c6531ed8-df7a-4889-b92a-18283f83097c",
   "metadata": {},
   "outputs": [
    {
     "name": "stdout",
     "output_type": "stream",
     "text": [
      "+--------+--------------------+---------------------+------------------+----------+------------+------------+---------------+-------------+-----------+-----+-------+----------+------------+---------+---------------------+------------+------------+---------+--------------------+\n",
      "|VendorID|lpep_pickup_datetime|lpep_dropoff_datetime|store_and_fwd_flag|RatecodeID|PULocationID|DOLocationID|passenger_count|trip_distance|fare_amount|extra|mta_tax|tip_amount|tolls_amount|ehail_fee|improvement_surcharge|total_amount|payment_type|trip_type|congestion_surcharge|\n",
      "+--------+--------------------+---------------------+------------------+----------+------------+------------+---------------+-------------+-----------+-----+-------+----------+------------+---------+---------------------+------------+------------+---------+--------------------+\n",
      "|       1| 2021-07-01 00:30:52|  2021-07-01 00:35:36|                 N|         1|          74|         168|              1|         1.20|          6|  0.5|    0.5|         0|           0|     NULL|                  0.3|         7.3|           2|        1|                   0|\n",
      "|       2| 2021-07-01 00:25:36|  2021-07-01 01:01:31|                 N|         1|         116|         265|              2|        13.69|         42|  0.5|    0.5|         0|           0|     NULL|                  0.3|        43.3|           2|        1|                   0|\n",
      "|       2| 2021-07-01 00:05:58|  2021-07-01 00:12:00|                 N|         1|          97|          33|              1|          .95|        6.5|  0.5|    0.5|      2.34|           0|     NULL|                  0.3|       10.14|           1|        1|                   0|\n",
      "|       2| 2021-07-01 00:41:40|  2021-07-01 00:47:23|                 N|         1|          74|          42|              1|         1.24|        6.5|  0.5|    0.5|         0|           0|     NULL|                  0.3|         7.8|           2|        1|                   0|\n",
      "|       2| 2021-07-01 00:51:32|  2021-07-01 00:58:46|                 N|         1|          42|         244|              1|         1.10|          7|  0.5|    0.5|         0|           0|     NULL|                  0.3|         8.3|           2|        1|                   0|\n",
      "|       1| 2021-07-01 00:05:00|  2021-07-01 00:11:50|                 N|         1|          24|         239|              1|         1.90|          8| 3.25|    0.5|         3|           0|     NULL|                  0.3|       15.05|           1|        1|                2.75|\n",
      "|       2| 2021-07-01 00:57:14|  2021-07-01 01:27:43|                 N|         1|          75|         243|              1|          .00|       17.5|  0.5|    0.5|         0|           0|     NULL|                  0.3|        18.8|           2|        1|                   0|\n",
      "|       2| 2021-07-01 00:27:36|  2021-07-01 00:32:35|                 N|         1|          82|          82|              1|          .66|          5|  0.5|    0.5|         0|           0|     NULL|                  0.3|         6.3|           2|        1|                   0|\n",
      "|       2| 2021-07-01 00:29:09|  2021-07-01 00:34:18|                 N|         1|          74|          42|              1|         1.72|          7|  0.5|    0.5|      2.08|           0|     NULL|                  0.3|       10.38|           1|        1|                   0|\n",
      "|       2| 2021-07-01 00:41:33|  2021-07-01 00:49:24|                 N|         1|          41|          42|              1|         1.37|        7.5|  0.5|    0.5|         0|           0|     NULL|                  0.3|         8.8|           2|        1|                   0|\n",
      "+--------+--------------------+---------------------+------------------+----------+------------+------------+---------------+-------------+-----------+-----+-------+----------+------------+---------+---------------------+------------+------------+---------+--------------------+\n",
      "only showing top 10 rows\n"
     ]
    }
   ],
   "source": [
    "# Load your dataset from the specified path\n",
    "df = spark.read.option(\"header\", \"true\").csv(\"ELiteTEch_Intern/taxi_tripdata.csv\")\n",
    "df.show(10)\n"
   ]
  },
  {
   "cell_type": "code",
   "execution_count": 37,
   "id": "f182ca86-159a-48a9-9b26-0646f921b7e6",
   "metadata": {},
   "outputs": [
    {
     "data": {
      "text/plain": [
       "['VendorID',\n",
       " 'lpep_pickup_datetime',\n",
       " 'lpep_dropoff_datetime',\n",
       " 'store_and_fwd_flag',\n",
       " 'RatecodeID',\n",
       " 'PULocationID',\n",
       " 'DOLocationID',\n",
       " 'passenger_count',\n",
       " 'trip_distance',\n",
       " 'fare_amount',\n",
       " 'extra',\n",
       " 'mta_tax',\n",
       " 'tip_amount',\n",
       " 'tolls_amount',\n",
       " 'ehail_fee',\n",
       " 'improvement_surcharge',\n",
       " 'total_amount',\n",
       " 'payment_type',\n",
       " 'trip_type',\n",
       " 'congestion_surcharge']"
      ]
     },
     "execution_count": 37,
     "metadata": {},
     "output_type": "execute_result"
    }
   ],
   "source": [
    "df.columns"
   ]
  },
  {
   "cell_type": "code",
   "execution_count": 15,
   "id": "f2130983-5abb-4a33-97e5-afbeff6aac0d",
   "metadata": {},
   "outputs": [
    {
     "name": "stdout",
     "output_type": "stream",
     "text": [
      "+--------+--------------------+---------------------+------------------+----------+------------+------------+---------------+-------------+-----------+-----+-------+----------+------------+---------+---------------------+------------+------------+---------+--------------------+\n",
      "|VendorID|lpep_pickup_datetime|lpep_dropoff_datetime|store_and_fwd_flag|RatecodeID|PULocationID|DOLocationID|passenger_count|trip_distance|fare_amount|extra|mta_tax|tip_amount|tolls_amount|ehail_fee|improvement_surcharge|total_amount|payment_type|trip_type|congestion_surcharge|\n",
      "+--------+--------------------+---------------------+------------------+----------+------------+------------+---------------+-------------+-----------+-----+-------+----------+------------+---------+---------------------+------------+------------+---------+--------------------+\n",
      "|    NULL| 2021-07-19 05:15:00|  2021-07-19 05:29:00|              NULL|      NULL|         108|         150|           NULL|     99762.26|      17.69| 2.75|      0|         0|           0|     NULL|                  0.3|       20.74|        NULL|     NULL|                NULL|\n",
      "|    NULL| 2021-07-04 06:29:00|  2021-07-04 06:40:00|              NULL|      NULL|         244|         151|           NULL|     99564.83|      18.78|    0|      0|      3.18|           0|     NULL|                  0.3|       22.26|        NULL|     NULL|                NULL|\n",
      "|    NULL| 2021-07-02 13:29:00|  2021-07-02 13:45:00|              NULL|      NULL|         127|         244|           NULL|     99472.41|      11.19|    0|      0|         1|           0|     NULL|                  0.3|       12.49|        NULL|     NULL|                NULL|\n",
      "|    NULL| 2021-07-16 08:25:00|  2021-07-16 09:04:00|              NULL|      NULL|          80|         140|           NULL|     98282.77|      27.92| 2.75|      0|         0|           0|     NULL|                  0.3|       30.97|        NULL|     NULL|                NULL|\n",
      "|    NULL| 2021-07-15 07:42:00|  2021-07-15 07:52:00|              NULL|      NULL|         223|           7|           NULL|     98157.87|      16.83| 2.75|      0|         0|           0|     NULL|                  0.3|       19.88|        NULL|     NULL|                NULL|\n",
      "+--------+--------------------+---------------------+------------------+----------+------------+------------+---------------+-------------+-----------+-----+-------+----------+------------+---------+---------------------+------------+------------+---------+--------------------+\n",
      "only showing top 5 rows\n"
     ]
    }
   ],
   "source": [
    "df.orderBy(col(\"trip_distance\").desc()).show(5)\n"
   ]
  },
  {
   "cell_type": "code",
   "execution_count": 17,
   "id": "e8a90187-874a-4ad6-96ed-2b44295ab1b6",
   "metadata": {},
   "outputs": [
    {
     "name": "stdout",
     "output_type": "stream",
     "text": [
      "+-------+------------------+\n",
      "|summary|       fare_amount|\n",
      "+-------+------------------+\n",
      "|  count|             83691|\n",
      "|   mean| 20.38830459667026|\n",
      "| stddev|15.583552357872819|\n",
      "|    min|                -1|\n",
      "|    max|              99.5|\n",
      "+-------+------------------+\n",
      "\n"
     ]
    }
   ],
   "source": [
    "df.select(\"fare_amount\").describe().show()\n"
   ]
  },
  {
   "cell_type": "code",
   "execution_count": 19,
   "id": "c2e8fef8-be18-454a-94fe-99ab61950fb1",
   "metadata": {},
   "outputs": [
    {
     "name": "stdout",
     "output_type": "stream",
     "text": [
      "+------------+-----+\n",
      "|payment_type|count|\n",
      "+------------+-----+\n",
      "|           3|  307|\n",
      "|           5|    1|\n",
      "|           1|29990|\n",
      "|           4|   44|\n",
      "|           2|20831|\n",
      "|        NULL|32518|\n",
      "+------------+-----+\n",
      "\n"
     ]
    }
   ],
   "source": [
    "df.groupBy(\"payment_type\").count().show()\n"
   ]
  },
  {
   "cell_type": "code",
   "execution_count": 51,
   "id": "0ebed151-eb72-460a-bd31-7a16a4004470",
   "metadata": {},
   "outputs": [
    {
     "name": "stdout",
     "output_type": "stream",
     "text": [
      "+--------------------+-----+\n",
      "|lpep_pickup_datetime|count|\n",
      "+--------------------+-----+\n",
      "|                   0| 1030|\n",
      "|                   1|  642|\n",
      "|                   2|  431|\n",
      "|                   3|  363|\n",
      "|                   4|  501|\n",
      "|                   5|  950|\n",
      "|                   6| 1935|\n",
      "|                   7| 3358|\n",
      "|                   8| 5030|\n",
      "|                   9| 5798|\n",
      "|                  10| 6096|\n",
      "|                  11| 6092|\n",
      "|                  12| 5766|\n",
      "|                  13| 5534|\n",
      "|                  14| 5626|\n",
      "|                  15| 5744|\n",
      "|                  16| 5280|\n",
      "|                  17| 5166|\n",
      "|                  18| 5183|\n",
      "|                  19| 4268|\n",
      "+--------------------+-----+\n",
      "only showing top 20 rows\n"
     ]
    }
   ],
   "source": [
    "from pyspark.sql.functions import hour, col\n",
    "\n",
    "# Replace \"pickup_datetime\" with the actual column name if it's different\n",
    "df = df.withColumn(\"lpep_pickup_datetime\", hour(col(\"lpep_pickup_datetime\")))\n",
    "df.groupBy(\"lpep_pickup_datetime\").count().orderBy(\"lpep_pickup_datetime\").show()\n"
   ]
  },
  {
   "cell_type": "code",
   "execution_count": 53,
   "id": "2109b43a-2686-444f-a23e-4eb0b2c0c94a",
   "metadata": {},
   "outputs": [
    {
     "name": "stdout",
     "output_type": "stream",
     "text": [
      "Correlation between trip_distance and fare_amount: 0.03\n"
     ]
    }
   ],
   "source": [
    "from pyspark.sql.functions import col\n",
    "\n",
    "df = df.withColumn(\"trip_distance\", col(\"trip_distance\").cast(\"float\")) \\\n",
    "       .withColumn(\"fare_amount\", col(\"fare_amount\").cast(\"float\"))\n",
    "filtered_df = df.filter(col(\"trip_distance\").isNotNull() & col(\"fare_amount\").isNotNull())\n",
    "correlation = filtered_df.stat.corr(\"trip_distance\", \"fare_amount\")\n",
    "print(f\"Correlation between trip_distance and fare_amount: {correlation:.2f}\")\n"
   ]
  }
 ],
 "metadata": {
  "kernelspec": {
   "display_name": "Python 3 (ipykernel)",
   "language": "python",
   "name": "python3"
  },
  "language_info": {
   "codemirror_mode": {
    "name": "ipython",
    "version": 3
   },
   "file_extension": ".py",
   "mimetype": "text/x-python",
   "name": "python",
   "nbconvert_exporter": "python",
   "pygments_lexer": "ipython3",
   "version": "3.12.4"
  }
 },
 "nbformat": 4,
 "nbformat_minor": 5
}
